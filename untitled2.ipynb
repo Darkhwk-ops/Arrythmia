import pandas as pd
import numpy as np
import matplotlib.pyplot as plt
from sklearn.decomposition import FastICA
from scipy.signal import butter, filtfilt, find_peaks

# Load data
file_path = r"C:\Users\sunis\Downloads\samples (2).csv"  # Replace with your file path
data = pd.read_csv(file_path)

# Parse timestamps for visualization
data['Elapsed time (s)'] = data["Elapsed time"].str.strip("'").str.split(':').apply(
    lambda x: int(x[0]) * 60 + float(x[1])
)

# Signal preprocessing: Normalize all signals together
def normalize_signals(signals):
    concatenated = np.concatenate([
        signals['ECG'],
        signals[['Abdomen_1', 'Abdomen_2', 'Abdomen_3', 'Abdomen_4']].values.flatten()
    ])
    mean = np.mean(concatenated)
    std = np.std(concatenated)
    signals['ECG'] = (signals['ECG'] - mean) / std
    signals[['Abdomen_1', 'Abdomen_2', 'Abdomen_3', 'Abdomen_4']] = (
        signals[['Abdomen_1', 'Abdomen_2', 'Abdomen_3', 'Abdomen_4']] - mean
    ) / std
    return signals

data = normalize_signals(data)

# Define bandpass filter function
def bandpass_filter(signal, lowcut, highcut, fs, order=4):
    nyquist = 0.5 * fs
    low = lowcut / nyquist
    high = highcut / nyquist
    b, a = butter(order, [low, high], btype='band')
    return filtfilt(b, a, signal)

# Sampling rate (adjust based on actual data)
sampling_rate = 1000  
lowcut, highcut = 10, 50  # Broad ECG frequency range

# Apply bandpass filter to each channel
for col in ['ECG', 'Abdomen_1', 'Abdomen_2', 'Abdomen_3', 'Abdomen_4']:
    data[col] = bandpass_filter(data[col], lowcut, highcut, sampling_rate)

# Combine signals for ICA
ica_input = data[['ECG', 'Abdomen_1', 'Abdomen_2', 'Abdomen_3', 'Abdomen_4']].values

# Perform ICA
ica = FastICA(n_components=5, random_state=0)
ica_components = ica.fit_transform(ica_input)

# Select ICA component representing fetal ECG
fetal_component = -ica_components[:, 0]

# Define high-pass and low-pass filters
def highpass_filter(signal, cutoff, fs, order=4):
    nyquist = 0.5 * fs
    high = cutoff / nyquist
    b, a = butter(order, high, btype='high')
    return filtfilt(b, a, signal)

def lowpass_filter(signal, cutoff, fs, order=4):
    nyquist = 0.5 * fs
    low = cutoff / nyquist
    b, a = butter(order, low, btype='low')
    return filtfilt(b, a, signal)

# Apply high-pass and low-pass filtering to fetal ECG signal
fetal_component = highpass_filter(fetal_component, 5, sampling_rate)  # Remove baseline drift
fetal_component = lowpass_filter(fetal_component, 50, sampling_rate)  # Remove high-frequency noise

# Detect R-peaks
peaks, _ = find_peaks(fetal_component, distance=sampling_rate * 0.28)

# Calculate RR intervals and heart rate
rr_intervals = np.diff(peaks) / sampling_rate  # RR intervals in seconds
heart_rate = 60 / rr_intervals  # Heart rate in bpm

# Calculate average heart rate
average_heart_rate = np.mean(heart_rate)
print(f"Average Heart Rate: {average_heart_rate:.2f} bpm")

# Detect arrhythmias (heart rate outside normal range)
normal_range = (100, 180)  # Normal fetal heart rate range in bpm
arrhythmia_indices = np.where((heart_rate < normal_range[0]) | (heart_rate > normal_range[1]))[0]

# Retain only one peak per arrhythmia cluster
significant_arrhythmia_indices = []
for idx in arrhythmia_indices:
    if len(significant_arrhythmia_indices) == 0 or idx - significant_arrhythmia_indices[-1] > 1:
        significant_arrhythmia_indices.append(idx)

# Output arrhythmia details for the full signal
if len(significant_arrhythmia_indices) > 0:
    print(f"Arrhythmia detected at the following timestamps:")
    for index in significant_arrhythmia_indices:
        timestamp = data['Elapsed time (s)'].iloc[peaks[index + 1]]
        heart_rate_value = heart_rate[index]
        print(f"- Time: {timestamp:.2f} s, Heart Rate: {heart_rate_value:.2f} bpm")
else:
    print("No arrhythmias detected.")

# Extract first 5 seconds of the signal
time_window = 2
subset_data = data[data['Elapsed time (s)'] <= data['Elapsed time (s)'].iloc[0] + time_window]
subset_fetal_component = fetal_component[:len(subset_data)]

# Find R-peaks within the time window
subset_peaks = peaks[peaks < len(subset_data)]

# Identify arrhythmias within the 5-second window
subset_arrhythmia_indices = [idx for idx in significant_arrhythmia_indices if peaks[idx + 1] < len(subset_data)]

# Plot the fetal ECG signal for the first 5 seconds
plt.figure(figsize=(10, 5))
plt.plot(subset_data['Elapsed time (s)'], subset_fetal_component, label="Filtered Fetal ECG", color="blue")
plt.scatter(subset_data['Elapsed time (s)'].iloc[subset_peaks], subset_fetal_component[subset_peaks])

# Mark arrhythmia points
for index in subset_arrhythmia_indices:
    plt.axvline(subset_data['Elapsed time (s)'].iloc[peaks[index + 1]], color="orange", linestyle="--", label="Arrhythmia" if index == subset_arrhythmia_indices[0] else "")

plt.title("Filtered Fetal ECG (First 5 Seconds) with Arrhythmia Marking")
plt.xlabel("Time (s)")
plt.ylabel("Amplitude")
plt.legend()
plt.tight_layout()
plt.show()


